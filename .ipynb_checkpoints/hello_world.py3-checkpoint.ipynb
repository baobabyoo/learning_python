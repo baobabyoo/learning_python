{
 "cells": [
  {
   "cell_type": "markdown",
   "metadata": {},
   "source": [
    "# Making a python3 hello world code.\n",
    "This is an exercise to put this onto github."
   ]
  },
  {
   "cell_type": "markdown",
   "metadata": {},
   "source": [
    "# This line is required to include the plots within the notebook"
   ]
  },
  {
   "cell_type": "code",
   "execution_count": 24,
   "metadata": {
    "collapsed": true
   },
   "outputs": [],
   "source": [
    "%matplotlib inline"
   ]
  },
  {
   "cell_type": "markdown",
   "metadata": {},
   "source": [
    "Let's start!"
   ]
  },
  {
   "cell_type": "code",
   "execution_count": 1,
   "metadata": {},
   "outputs": [
    {
     "name": "stdout",
     "output_type": "stream",
     "text": [
      "Hellow World!\n"
     ]
    }
   ],
   "source": [
    "print ('Hellow World!')"
   ]
  },
  {
   "cell_type": "markdown",
   "metadata": {},
   "source": [
    "# Import packages\n",
    "Import the numpy and matplotlib packages"
   ]
  },
  {
   "cell_type": "code",
   "execution_count": 2,
   "metadata": {},
   "outputs": [],
   "source": [
    "import numpy as np\n",
    "import matplotlib.pyplot as plt"
   ]
  },
  {
   "cell_type": "markdown",
   "metadata": {},
   "source": [
    "# Variable Assignment"
   ]
  },
  {
   "cell_type": "markdown",
   "metadata": {},
   "source": [
    "mutiple assignment"
   ]
  },
  {
   "cell_type": "code",
   "execution_count": 30,
   "metadata": {},
   "outputs": [
    {
     "name": "stdout",
     "output_type": "stream",
     "text": [
      "1 1 1 prompt message: cool\n",
      "What I got from standard input was: cool\n",
      "\n",
      " 1 test deleting"
     ]
    },
    {
     "ename": "NameError",
     "evalue": "name 'b' is not defined",
     "output_type": "error",
     "traceback": [
      "\u001b[0;31m---------------------------------------------------------------------------\u001b[0m",
      "\u001b[0;31mNameError\u001b[0m                                 Traceback (most recent call last)",
      "\u001b[0;32m<ipython-input-30-b9e4d6eaa69f>\u001b[0m in \u001b[0;36m<module>\u001b[0;34m()\u001b[0m\n\u001b[1;32m     17\u001b[0m \u001b[0mprint\u001b[0m \u001b[0;34m(\u001b[0m\u001b[0;34m'\\n'\u001b[0m\u001b[0;34m,\u001b[0m \u001b[0mb\u001b[0m\u001b[0;34m,\u001b[0m \u001b[0mend\u001b[0m\u001b[0;34m=\u001b[0m\u001b[0;34m' test deleting'\u001b[0m\u001b[0;34m)\u001b[0m \u001b[0;31m# integer object still exist, although the referencing variable a is deleted\u001b[0m\u001b[0;34m\u001b[0m\u001b[0m\n\u001b[1;32m     18\u001b[0m \u001b[0;32mdel\u001b[0m \u001b[0mb\u001b[0m\u001b[0;34m\u001b[0m\u001b[0m\n\u001b[0;32m---> 19\u001b[0;31m \u001b[0mprint\u001b[0m \u001b[0;34m(\u001b[0m\u001b[0;34m'\\n'\u001b[0m\u001b[0;34m,\u001b[0m \u001b[0mb\u001b[0m\u001b[0;34m,\u001b[0m \u001b[0mend\u001b[0m\u001b[0;34m=\u001b[0m\u001b[0;34m' test deleting'\u001b[0m\u001b[0;34m)\u001b[0m\u001b[0;34m\u001b[0m\u001b[0m\n\u001b[0m",
      "\u001b[0;31mNameError\u001b[0m: name 'b' is not defined"
     ]
    }
   ],
   "source": [
    "# here an integer object is created with the value 1, and all three variables a/b/c are assigned\n",
    "# to the same memory location\n",
    "a = \\\n",
    "b = \\\n",
    "c = 1  # The '\\' symbol is the line breaker\n",
    "       # In the same line, it shouldn't be followed by anything including white space.\n",
    "print (a, end=' ') \n",
    "print (b, end=' ')\n",
    "print (c, end=' ')\n",
    "\n",
    "# Standard I/O\n",
    "x = input(\"prompt message: \")\n",
    "print(\"What I got from standard input was\", end=\": \")\n",
    "print (x)\n",
    "\n",
    "\n",
    "# deleting variable\n",
    "del a \n",
    "print ('\\n', b, end=' test deleting') # integer object still exist, although the referencing variable a is deleted\n",
    "del b\n",
    "print ('\\n', b, end=' test deleting')"
   ]
  },
  {
   "cell_type": "markdown",
   "metadata": {},
   "source": [
    "Multiple assignment to multiple objects"
   ]
  },
  {
   "cell_type": "code",
   "execution_count": 21,
   "metadata": {},
   "outputs": [
    {
     "name": "stdout",
     "output_type": "stream",
     "text": [
      "1 2.0 test "
     ]
    }
   ],
   "source": [
    "a, b, c = 1, 2.0, 'test'\n",
    "print (a, end=' ') \n",
    "print (b, end=' ')\n",
    "print (c, end=' ')"
   ]
  },
  {
   "cell_type": "code",
   "execution_count": 20,
   "metadata": {},
   "outputs": [
    {
     "name": "stdout",
     "output_type": "stream",
     "text": [
      "(-3+4j) multiplying\n",
      "(2+4j) adding\n"
     ]
    }
   ],
   "source": [
    "# imaginary number\n",
    "a = 1.0 + 2.0j\n",
    "b = 1.0 + 2.0j\n",
    "print (a*b, 'multiplying')\n",
    "print (a+b, 'adding')"
   ]
  },
  {
   "cell_type": "code",
   "execution_count": 33,
   "metadata": {},
   "outputs": [
    {
     "name": "stdout",
     "output_type": "stream",
     "text": [
      "I am learning python3\n",
      "I\n",
      "am l\n",
      "a\n",
      "am learning python3\n",
      "I am learning python3I am learning python3\n",
      "I am learning python3 !\n"
     ]
    }
   ],
   "source": [
    "# String\n",
    "# * is the repetition operator\n",
    "# + is the string concatenation operator\n",
    "\n",
    "str = \"I am learning python3\"\n",
    "print (str)\n",
    "print (str[0])\n",
    "print (str[2:6]) # will print from the 2nd to the (6-1)th index\n",
    "print (str[2:3])\n",
    "print (str[2:])\n",
    "\n",
    "print (str * 2)\n",
    "print (str + ' !')"
   ]
  },
  {
   "cell_type": "code",
   "execution_count": 39,
   "metadata": {},
   "outputs": [
    {
     "name": "stdout",
     "output_type": "stream",
     "text": [
      "['abcd', 786, 2.23, 'john', 70.2]\n",
      "abcd\n",
      "[786, 2.23]\n",
      "[2.23, 'john', 70.2]\n",
      "[123, 'john', 123, 'john']\n",
      "['abcd', 786, 2.23, 'john', 70.2, 123, 'john']\n",
      "can update element, 2.24\n"
     ]
    }
   ],
   "source": [
    "# List\n",
    "# In python, all the items belonging to a list can be of different data type\n",
    "# * is the repetition operator\n",
    "# + is the list concatenation operator\n",
    "\n",
    "list = ['abcd', 786, 2.23, 'john', 70.2]\n",
    "tinylist = [123, 'john']\n",
    "\n",
    "print (list)\n",
    "print (list[0])\n",
    "print (list[1:3])\n",
    "print (list[2:])\n",
    "print (tinylist * 2)\n",
    "print (list + tinylist)\n",
    "\n",
    "list[2] = 2.24\n",
    "print ('can update element,', list[2])"
   ]
  },
  {
   "cell_type": "code",
   "execution_count": 40,
   "metadata": {},
   "outputs": [
    {
     "name": "stdout",
     "output_type": "stream",
     "text": [
      "('abcd', 786, 2.23, 'john')\n",
      "cannot update element\n"
     ]
    },
    {
     "ename": "TypeError",
     "evalue": "'tuple' object does not support item assignment",
     "output_type": "error",
     "traceback": [
      "\u001b[0;31m---------------------------------------------------------------------------\u001b[0m",
      "\u001b[0;31mTypeError\u001b[0m                                 Traceback (most recent call last)",
      "\u001b[0;32m<ipython-input-40-39a043fb436b>\u001b[0m in \u001b[0;36m<module>\u001b[0;34m()\u001b[0m\n\u001b[1;32m      5\u001b[0m \u001b[0mprint\u001b[0m \u001b[0;34m(\u001b[0m\u001b[0mtuple\u001b[0m\u001b[0;34m)\u001b[0m\u001b[0;34m\u001b[0m\u001b[0m\n\u001b[1;32m      6\u001b[0m \u001b[0mprint\u001b[0m \u001b[0;34m(\u001b[0m\u001b[0;34m\"cannot update element\"\u001b[0m\u001b[0;34m)\u001b[0m\u001b[0;34m\u001b[0m\u001b[0m\n\u001b[0;32m----> 7\u001b[0;31m \u001b[0mtuple\u001b[0m\u001b[0;34m[\u001b[0m\u001b[0;36m2\u001b[0m\u001b[0;34m]\u001b[0m \u001b[0;34m=\u001b[0m \u001b[0;36m2.24\u001b[0m\u001b[0;34m\u001b[0m\u001b[0m\n\u001b[0m",
      "\u001b[0;31mTypeError\u001b[0m: 'tuple' object does not support item assignment"
     ]
    }
   ],
   "source": [
    "# Tuples\n",
    "# this is similar to list, but the elements cannot be updated\n",
    "tuple = ( \"abcd\", 786, 2.23, 'john')\n",
    "\n",
    "print (tuple)\n",
    "print (\"cannot update element\")\n",
    "tuple[2] = 2.24"
   ]
  },
  {
   "cell_type": "code",
   "execution_count": 48,
   "metadata": {},
   "outputs": [
    {
     "name": "stdout",
     "output_type": "stream",
     "text": [
      "This is one\n",
      "This is two\n",
      "{'one': 'This is one', 2: 'This is two'}\n",
      "{'name': 'john', 'code': 7634, 'dept': 'test'}\n",
      "dict_keys(['name', 'code', 'dept'])\n",
      "dict_values(['john', 7634, 'test'])\n"
     ]
    }
   ],
   "source": [
    "# Dictionary\n",
    "# associative array which consists of key-value pairs\n",
    "# can be updated\n",
    "# key can be any Python type, and values can be any arbitary python objects\n",
    "dict = {}\n",
    "dict['one'] = \"This is one\"\n",
    "dict[2]     = \"This is two\"\n",
    "tinydict = {'name':'john', 'code':7634, 'dept':'test'}\n",
    "\n",
    "print (dict['one'])\n",
    "print (dict[2])\n",
    "print (dict)\n",
    "print (tinydict)\n",
    "print (tinydict.keys() )\n",
    "print (tinydict.values() )"
   ]
  },
  {
   "cell_type": "markdown",
   "metadata": {},
   "source": [
    "# Type Conversion"
   ]
  },
  {
   "cell_type": "code",
   "execution_count": 122,
   "metadata": {},
   "outputs": [
    {
     "name": "stdout",
     "output_type": "stream",
     "text": [
      "1\n",
      "1\n",
      "1\n",
      "1.0\n",
      "(1+2j)\n",
      "1.005test\n",
      "3.105\n",
      "3\n",
      "3.0\n"
     ]
    }
   ],
   "source": [
    "# converting x from float point to integer\n",
    "# basically trim all digits\n",
    "x = 1.01\n",
    "print ( int(x) )\n",
    "x = 1.45\n",
    "print ( int(x) )\n",
    "x = 1.75\n",
    "print ( int(x) )\n",
    "\n",
    "# converting x from integer to float point\n",
    "x = 1\n",
    "print ( float(x) )\n",
    "\n",
    "# creates a complex number\n",
    "x = complex(1.0, 2.0)\n",
    "print (x)\n",
    "\n",
    "# converts object x to a string representation\n",
    "x = 1.005\n",
    "print ( str(x) + 'test')\n",
    "\n",
    "# converts string to float point\n",
    "x = '1.005'\n",
    "print ( eval(x) + 2.1 )\n",
    "x = '1'\n",
    "print ( eval(x) + 2 )\n",
    "print ( eval(x) + 2.0 )"
   ]
  },
  {
   "cell_type": "markdown",
   "metadata": {},
   "source": [
    "# Arithmetic operators"
   ]
  },
  {
   "cell_type": "code",
   "execution_count": 8,
   "metadata": {},
   "outputs": [
    {
     "name": "stdout",
     "output_type": "stream",
     "text": [
      "2\n"
     ]
    }
   ],
   "source": [
    "# integer and float point\n",
    "# Modulus\n",
    "a = 5\n",
    "b = 3\n",
    "print (a%b)  # printing a modulus b"
   ]
  },
  {
   "cell_type": "code",
   "execution_count": 9,
   "metadata": {},
   "outputs": [
    {
     "name": "stdout",
     "output_type": "stream",
     "text": [
      "125\n"
     ]
    }
   ],
   "source": [
    "# exponent\n",
    "print (a**b)"
   ]
  },
  {
   "cell_type": "code",
   "execution_count": 11,
   "metadata": {},
   "outputs": [
    {
     "name": "stdout",
     "output_type": "stream",
     "text": [
      "1\n"
     ]
    }
   ],
   "source": [
    "# floor division (removing digits after division)\n",
    "print (a // b)"
   ]
  },
  {
   "cell_type": "markdown",
   "metadata": {},
   "source": [
    "# Comparison operators"
   ]
  },
  {
   "cell_type": "code",
   "execution_count": 14,
   "metadata": {},
   "outputs": [
    {
     "name": "stdout",
     "output_type": "stream",
     "text": [
      "False\n",
      "True\n",
      "False\n",
      "True\n",
      "False\n",
      "True\n"
     ]
    }
   ],
   "source": [
    "a = 10\n",
    "b = 20\n",
    "print (a == b) # equal to\n",
    "print (a != b) # not equal to\n",
    "print (a > b)\n",
    "print (a < b)\n",
    "print (a >= b)\n",
    "print (a <= b)"
   ]
  },
  {
   "cell_type": "markdown",
   "metadata": {},
   "source": [
    "# Assignment operator"
   ]
  },
  {
   "cell_type": "code",
   "execution_count": 31,
   "metadata": {},
   "outputs": [
    {
     "name": "stdout",
     "output_type": "stream",
     "text": [
      "30\n",
      "40\n",
      "-30\n",
      "-1200 40\n",
      "-30.0 40\n",
      "10.0 40\n",
      "1e+40 40\n",
      "2.5000000000000002e+38 40\n"
     ]
    }
   ],
   "source": [
    "a = 10\n",
    "b = 20\n",
    "print ( a + b )\n",
    "b += b  # add AND. This expression is equivalent to b = b + b\n",
    "print ( b )\n",
    "a -= b  # a = a - b\n",
    "print ( a )\n",
    "a *= b  # a = a * b\n",
    "print ( a, b )\n",
    "a /= b  # a = a / b\n",
    "print ( a, b )\n",
    "a %= b  # a = a % b\n",
    "print ( a, b )\n",
    "a **= b # a = a**b\n",
    "print ( a, b )\n",
    "a //= b # a = a // b\n",
    "print ( a, b )"
   ]
  },
  {
   "cell_type": "markdown",
   "metadata": {},
   "source": [
    "# Bitwise operators\n",
    "False == 0\n",
    "\n",
    "True == 1\n",
    "\n",
    "\n",
    "& : AND\n",
    "\n",
    "| : OR\n",
    "\n",
    "^ : XOR\n",
    "\n",
    "~ : flipping bits\n",
    "\n",
    "<< : left shift\n",
    "\n",
    "\\>\\> : right shift"
   ]
  },
  {
   "cell_type": "code",
   "execution_count": 57,
   "metadata": {},
   "outputs": [
    {
     "name": "stdout",
     "output_type": "stream",
     "text": [
      "0b111100 a in binary\n",
      "0b1101 b in binary\n",
      "12\n",
      "0b1100 binary AND\n",
      "61\n",
      "0b111101 binary OR\n",
      "49\n",
      "0b110001 binary XOR\n",
      "-61\n",
      "-0b111101 binary Ones complement\n",
      "0b1111000 one left shift\n",
      "0b111100000 three left shift\n"
     ]
    }
   ],
   "source": [
    "a = 60\n",
    "b = 13\n",
    "\n",
    "# obtaining the binary representation of a and b.\n",
    "# the return will be string variables\n",
    "print ( bin(a) , 'a in binary')\n",
    "print ( bin(b) , 'b in binary')\n",
    "\n",
    "\n",
    "# binary AND\n",
    "print ( a&b )\n",
    "print ( bin(a&b), 'binary AND' )\n",
    "\n",
    "# binary OR\n",
    "print ( a|b )\n",
    "print ( bin(a|b), 'binary OR' )\n",
    "\n",
    "# binary XOR (exclusive or; False when the two numbers are different, True when the two numbers are the same)\n",
    "print ( a^b )\n",
    "print ( bin(a^b), 'binary XOR' )\n",
    "\n",
    "# binary ones complement, i.e. flipping bits\n",
    "print ( ~a )\n",
    "print ( bin(~a), 'binary Ones complement')\n",
    "\n",
    "# binary left shift ( right shift is similar)\n",
    "print ( bin(a<<1) , 'one left shift')\n",
    "print ( bin(a<<3) , 'three left shift')"
   ]
  },
  {
   "cell_type": "markdown",
   "metadata": {},
   "source": [
    "# Logical operator\n",
    "AND\n",
    "\n",
    "OR\n",
    "\n",
    "NOT  :  to reverse the logical state of its operand"
   ]
  },
  {
   "cell_type": "code",
   "execution_count": 76,
   "metadata": {},
   "outputs": [
    {
     "name": "stdout",
     "output_type": "stream",
     "text": [
      "False\n",
      "True\n",
      "False\n",
      "True\n"
     ]
    }
   ],
   "source": [
    "a = True\n",
    "b = False\n",
    "print (  ( a and b )  )\n",
    "print (  ( a or b )   )\n",
    "print ( not  a )\n",
    "print ( not ( a and b ) )"
   ]
  },
  {
   "cell_type": "markdown",
   "metadata": {},
   "source": [
    "# Membership operators\n",
    "in\n",
    "\n",
    "not in"
   ]
  },
  {
   "cell_type": "code",
   "execution_count": 78,
   "metadata": {},
   "outputs": [
    {
     "name": "stdout",
     "output_type": "stream",
     "text": [
      "False\n",
      "True\n",
      "True\n"
     ]
    }
   ],
   "source": [
    "a = 10\n",
    "b = 20\n",
    "list = [1, 2, 3, 4, 5]\n",
    "\n",
    "print ( a in list )\n",
    "print ( b/a in list )\n",
    "print ( a not in list )"
   ]
  },
  {
   "cell_type": "markdown",
   "metadata": {},
   "source": [
    "# Identity operators -- comparing whether two objects are pointing to the same memory location\n",
    "is\n",
    "\n",
    "is not"
   ]
  },
  {
   "cell_type": "code",
   "execution_count": 1,
   "metadata": {},
   "outputs": [
    {
     "name": "stdout",
     "output_type": "stream",
     "text": [
      "140629242973824 print the identity of a\n",
      "140629242973824 print the identity of b\n",
      "True\n",
      "False\n",
      "140628975426352 print the identity of a\n",
      "140629242973824 print the identity of a\n",
      "True\n"
     ]
    }
   ],
   "source": [
    "a = 20\n",
    "b = 20\n",
    "\n",
    "print ( id(a), 'print the identity of a' )\n",
    "print ( id(b), 'print the identity of b' )\n",
    "\n",
    "print ( a is b )\n",
    "print ( a is not b )\n",
    "\n",
    "a *= a\n",
    "\n",
    "print ( id(a), 'print the identity of a' )\n",
    "print ( id(b), 'print the identity of a' )\n",
    "\n",
    "print ( a is not b )"
   ]
  },
  {
   "cell_type": "markdown",
   "metadata": {},
   "source": [
    "# Loops"
   ]
  },
  {
   "cell_type": "markdown",
   "metadata": {},
   "source": [
    "While statement"
   ]
  },
  {
   "cell_type": "code",
   "execution_count": 32,
   "metadata": {},
   "outputs": [
    {
     "name": "stdout",
     "output_type": "stream",
     "text": [
      "The count is: 0\n",
      "The count is: 1\n",
      "The count is: 2\n",
      "The count is: 3\n",
      "The count is: 4\n",
      "End while, count is 5\n"
     ]
    }
   ],
   "source": [
    "#  The condition may be any expression, and true is any non-zero values\n",
    "\n",
    "count = 0\n",
    "\n",
    "while (count < 5):\n",
    "    print ('The count is:', count)\n",
    "    count += 1   # equivalent with count = count + 1\n",
    "else:\n",
    "    print (\"End while, count is\", count)\n",
    "\n",
    "    \n",
    "# single statement suite for while\n",
    "# while (flag): print ('single statement suite')"
   ]
  },
  {
   "cell_type": "markdown",
   "metadata": {},
   "source": [
    "For loop\n",
    "\n",
    "\n",
    "   break: termintes the loop and transfers execution to the statement immediately following the loop\n",
    "   \n",
    "   continue: causes the loop to skip the remainder of its body and immediately retest its condition prior to reiterating\n",
    "   \n",
    "   pass: used when a statement is requierd syntactically but you do not want any command or code to execute"
   ]
  },
  {
   "cell_type": "code",
   "execution_count": 46,
   "metadata": {},
   "outputs": [
    {
     "name": "stdout",
     "output_type": "stream",
     "text": [
      "[0, 1, 2, 3, 4]\n",
      "0, 1, 2, 3, 4, \n",
      "\n",
      "current letter : P\n",
      "current letter : y\n",
      "current letter : t\n",
      "current letter : h\n",
      "current letter : o\n",
      "current letter : n\n",
      "\n",
      "\n",
      "current fruit: banana\n",
      "current fruit: apple\n",
      "current fruit: mango\n",
      "\n",
      "\n",
      "current fruit: banana\n",
      "current fruit: apple\n",
      "current fruit: mango\n",
      "the list contains an even number\n",
      "the list does not contain even number\n",
      "\n",
      "current letter : p\n",
      "current letter : y\n",
      "current letter : t\n",
      "\n",
      "\n",
      "current letter : p\n",
      "current letter : y\n",
      "current letter : t\n",
      "current letter : o\n",
      "current letter : n\n",
      "\n",
      "\n",
      "current letter : p\n",
      "current letter : y\n",
      "current letter : t\n",
      "this is pass block\n",
      "current letter : h\n",
      "current letter : o\n",
      "current letter : n\n",
      "n\n",
      "current variable value: 10\n",
      "current variable value: 9\n",
      "current variable value: 8\n",
      "current variable value: 7\n",
      "current variable value: 6\n",
      "\n",
      "\n"
     ]
    }
   ],
   "source": [
    "# For loop statement\n",
    "\n",
    "# generate a list of integer number\n",
    "a = list( range(5) )\n",
    "print(a)\n",
    "\n",
    "for var in a:\n",
    "    print(var, end=', ')\n",
    "else:\n",
    "    print('\\n')\n",
    "\n",
    "\n",
    "# traversal of a string sequence\n",
    "for letter in 'Python':\n",
    "    print('current letter :', letter)\n",
    "else:\n",
    "    print('\\n')\n",
    "    \n",
    "\n",
    "# traversal of list sequence\n",
    "fruits = ['banana', 'apple', 'mango']\n",
    "for fruit in fruits:\n",
    "    print ('current fruit:', fruit)\n",
    "else:\n",
    "    print ('\\n')\n",
    "    \n",
    "\n",
    "# iterating by sequence index\n",
    "for index in range( len(fruits) ):\n",
    "    print ('current fruit:', fruits[index])\n",
    "    \n",
    "    \n",
    "\n",
    "# The \"else\" statement of for loop is executed only if the for loop terminates normally \n",
    "#(and not by encountering break statement)\n",
    "numbers = [1,3,4,7,9]\n",
    "for num in numbers:\n",
    "    if num%2==0:\n",
    "        print ('the list contains an even number')\n",
    "        break\n",
    "else:\n",
    "    print('the list does not contain even number')\n",
    "    \n",
    "numbers = [1,3,5,7,9]\n",
    "for num in numbers:\n",
    "    if num%2==0:\n",
    "        print ('the list contains an even number')\n",
    "        break\n",
    "else:\n",
    "    print('the list does not contain even number\\n')\n",
    "    \n",
    "\n",
    "    \n",
    "for letter in 'python':\n",
    "    if letter == 'h':\n",
    "        print ('\\n')\n",
    "        break\n",
    "    print ('current letter :', letter)\n",
    "    \n",
    "    \n",
    "for letter in 'python':\n",
    "    if letter == 'h':\n",
    "        continue\n",
    "    print ('current letter :', letter)\n",
    "else:\n",
    "    print ('\\n')\n",
    "\n",
    "    \n",
    "for letter in 'python':\n",
    "    if letter == 'h':\n",
    "        pass\n",
    "        print ('this is pass block')\n",
    "    print ('current letter :', letter)\n",
    "else:\n",
    "    print ('n')\n",
    "    \n",
    "\n",
    "var = 10\n",
    "while var > 0:\n",
    "    print ('current variable value:', var)\n",
    "    var -=1\n",
    "    if var == 5:\n",
    "        print ('\\n')\n",
    "        break"
   ]
  },
  {
   "cell_type": "markdown",
   "metadata": {},
   "source": [
    "Iterator and Generator\n",
    "\n",
    "Iterator is an object, which allows a programmer to traverse through all the elements of a collection, regardless of its specific implementation. String, List, or Tuple objects can be used to create an Iterator.\n",
    "\n",
    "A generator is a function that produces or yields a sequence of values using yield method. When a generator function is called, it returns a generator object without even beginning execution of the function. When the next() method is called for the first time, the function starts execution , until it reaches the yield statement, which returns the yielded value. The yield keeps track i.e. remembers the last execution and the second next() call continues from previous values"
   ]
  },
  {
   "cell_type": "code",
   "execution_count": 53,
   "metadata": {},
   "outputs": [
    {
     "name": "stdout",
     "output_type": "stream",
     "text": [
      "1\n",
      "2\n",
      "3 4 5 6 7 a b c "
     ]
    },
    {
     "ename": "SystemExit",
     "evalue": "",
     "output_type": "error",
     "traceback": [
      "An exception has occurred, use %tb to see the full traceback.\n",
      "\u001b[0;31mSystemExit\u001b[0m\n"
     ]
    },
    {
     "name": "stderr",
     "output_type": "stream",
     "text": [
      "/scratch/home/hlu/astronomical_softwares/python/anaconda3/envs/learningPython3/lib/python3.6/site-packages/IPython/core/interactiveshell.py:2918: UserWarning: To exit: use 'exit', 'quit', or Ctrl-D.\n",
      "  warn(\"To exit: use 'exit', 'quit', or Ctrl-D.\", stacklevel=1)\n"
     ]
    }
   ],
   "source": [
    "import sys\n",
    "\n",
    "\n",
    "list = [1,2,3,4,5,6,7, 'a', 'b', 'c']\n",
    "it = iter(list) # this buids and iterator object\n",
    "print ( next( it ) )  # prints next available element in iterator\n",
    "print ( next( it ) )\n",
    "\n",
    "for x in it:\n",
    "    print (x, end=\" \")\n",
    "\n",
    "while True:\n",
    "    try:\n",
    "        print (next(it))\n",
    "    except StopIteration:\n",
    "        sys.exit()"
   ]
  },
  {
   "cell_type": "code",
   "execution_count": 63,
   "metadata": {},
   "outputs": [
    {
     "name": "stdout",
     "output_type": "stream",
     "text": [
      "<generator object fibonacci at 0x7fe6b8079af0>\n",
      "0.0 10.0 10.0 20.0 30.0 50.0 "
     ]
    },
    {
     "ename": "SystemExit",
     "evalue": "",
     "output_type": "error",
     "traceback": [
      "An exception has occurred, use %tb to see the full traceback.\n",
      "\u001b[0;31mSystemExit\u001b[0m\n"
     ]
    },
    {
     "name": "stderr",
     "output_type": "stream",
     "text": [
      "/scratch/home/hlu/astronomical_softwares/python/anaconda3/envs/learningPython3/lib/python3.6/site-packages/IPython/core/interactiveshell.py:2918: UserWarning: To exit: use 'exit', 'quit', or Ctrl-D.\n",
      "  warn(\"To exit: use 'exit', 'quit', or Ctrl-D.\", stacklevel=1)\n"
     ]
    }
   ],
   "source": [
    "def fibonacci(n): # generator function\n",
    "    a, b, counter = 0, 1, 0\n",
    "    while True:\n",
    "        if (counter > n):\n",
    "            return\n",
    "        yield a   # the \"yield\" here will return the yielded value\n",
    "        a, b = b, a + b\n",
    "        counter += 1\n",
    "        \n",
    "f = fibonacci(5)  # f is iterator object. A generator is called here without executing the function\n",
    "print (f)\n",
    "\n",
    "while True:\n",
    "    try:\n",
    "        print (next(f) * 10.0, end=\" \")\n",
    "    except StopIteration:\n",
    "        sys.exit()"
   ]
  },
  {
   "cell_type": "markdown",
   "metadata": {},
   "source": [
    "# Numbers\n",
    "Integers in python 3 are of unlimited size"
   ]
  },
  {
   "cell_type": "code",
   "execution_count": 33,
   "metadata": {},
   "outputs": [
    {
     "name": "stdout",
     "output_type": "stream",
     "text": [
      "1 2\n",
      "99999999999999999999999999999999999999999999999999999999999998\n"
     ]
    },
    {
     "ename": "NameError",
     "evalue": "name 'a' is not defined",
     "output_type": "error",
     "traceback": [
      "\u001b[0;31m---------------------------------------------------------------------------\u001b[0m",
      "\u001b[0;31mNameError\u001b[0m                                 Traceback (most recent call last)",
      "\u001b[0;32m<ipython-input-33-660af9585b74>\u001b[0m in \u001b[0;36m<module>\u001b[0;34m()\u001b[0m\n\u001b[1;32m      5\u001b[0m \u001b[0;34m\u001b[0m\u001b[0m\n\u001b[1;32m      6\u001b[0m \u001b[0;32mdel\u001b[0m \u001b[0ma\u001b[0m\u001b[0;34m,\u001b[0m \u001b[0mb\u001b[0m\u001b[0;34m\u001b[0m\u001b[0m\n\u001b[0;32m----> 7\u001b[0;31m \u001b[0mprint\u001b[0m \u001b[0;34m(\u001b[0m\u001b[0ma\u001b[0m\u001b[0;34m,\u001b[0m \u001b[0mb\u001b[0m\u001b[0;34m)\u001b[0m\u001b[0;34m\u001b[0m\u001b[0m\n\u001b[0m",
      "\u001b[0;31mNameError\u001b[0m: name 'a' is not defined"
     ]
    }
   ],
   "source": [
    "a , b = 1, 2\n",
    "print (a, b)\n",
    "c = 99999999999999999999999999999999999999999999999999999999999998\n",
    "print (c)\n",
    "\n",
    "del a, b\n",
    "print (a, b)"
   ]
  },
  {
   "cell_type": "code",
   "execution_count": 36,
   "metadata": {},
   "outputs": [
    {
     "name": "stdout",
     "output_type": "stream",
     "text": [
      "250.0\n",
      "3.23e+19\n"
     ]
    }
   ],
   "source": [
    "print (2.5e2)\n",
    "print (32.3e18)"
   ]
  },
  {
   "cell_type": "code",
   "execution_count": 71,
   "metadata": {},
   "outputs": [
    {
     "name": "stdout",
     "output_type": "stream",
     "text": [
      "12 absolute values\n",
      "12.0 absolute values with math module\n",
      "\n",
      "13 the smallest integer not less than x\n",
      "12 the largest integer not greater than x\n",
      "\n",
      "2.718281828459045  e^x \n",
      "1.0 ln(x) \n",
      "2.0 log10(x)\n",
      "\n",
      "5 maximum\n",
      "1 minimum\n",
      "\n",
      "(0.2345000000000006, 12.0) fractional and integer parts of x in a two-item tuple\n",
      "0.2345000000000006 fractional part\n",
      "12.0 integer part\n",
      "\n",
      "1000.0 x**y\n",
      "\n",
      "1.235 x rounded to n digits from the dicimal point\n",
      "1.23 x rounded to n digits from the dicimal point\n",
      "\n",
      "1.23456789 converting to string\n",
      "1.235 converting to string\n",
      "1.23 converting to string\n",
      "\n",
      "-2.0 rounding negative number\n",
      "\n",
      "2.0 square root of x\n",
      "\n"
     ]
    }
   ],
   "source": [
    "# mathematical functions\n",
    "import math\n",
    "\n",
    "x = -12\n",
    "print ( abs(x), 'absolute values' )\n",
    "# or\n",
    "print ( math.fabs(x), 'absolute values with math module\\n')\n",
    "\n",
    "x = 12.3\n",
    "print ( math.ceil(x), 'the smallest integer not less than x' )\n",
    "print ( math.floor(x), 'the largest integer not greater than x\\n')\n",
    "\n",
    "x = 1.0\n",
    "print ( math.exp(x), ' e^x ')\n",
    "x = 2.718281828459045\n",
    "print (math.log(x), 'ln(x) ')\n",
    "x = 100.0\n",
    "print (math.log10(x), 'log10(x)\\n')\n",
    "\n",
    "x = [1, 2, 3, 4, 5]\n",
    "print (max(x), 'maximum')\n",
    "print (min(x), 'minimum\\n')\n",
    "\n",
    "x = 12.2345\n",
    "print ( math.modf(x), 'fractional and integer parts of x in a two-item tuple' )\n",
    "print ( math.modf(x)[0] ,'fractional part')\n",
    "print ( math.modf(x)[1] ,'integer part\\n')\n",
    "\n",
    "x = 10.0\n",
    "y = 3.0\n",
    "print (math.pow(x,y), 'x**y\\n')\n",
    "\n",
    "x = 1.23456789\n",
    "print ( round(x, 3), 'x rounded to n digits from the dicimal point')\n",
    "print ( round(x, 2), 'x rounded to n digits from the dicimal point\\n')\n",
    "print ( str(x), 'converting to string')\n",
    "print ( str( round(x,3) ), 'converting to string')\n",
    "print ( str( round(x,2) ), 'converting to string\\n')\n",
    "x = -1.56\n",
    "print (round(x,0), 'rounding negative number\\n')\n",
    "\n",
    "\n",
    "x = 4.0\n",
    "print ( math.sqrt(x), 'square root of x\\n')"
   ]
  },
  {
   "cell_type": "code",
   "execution_count": 143,
   "metadata": {},
   "outputs": [
    {
     "name": "stdout",
     "output_type": "stream",
     "text": [
      "[1, 2, 3, 4, 5, 6, 7, 8, 9, 10, 11, 12, 13, 14]\n",
      "2 : make a random choice from 1 to 14\n",
      "\n",
      "d : make a random choice from a-z\n",
      "\n",
      "36 \n",
      "\n",
      "0.36829989881112024 a uniform random number\n",
      "\n",
      "69.6668620139031 a uniform random number in between start,end\n",
      "\n",
      "['3', '5', '2', '1', '4']  shuffling a list\n",
      "[3, 1, 6, 11, 8, 7, 2, 10, 14, 12, 9, 5, 4, 13] shuffling a list\n"
     ]
    }
   ],
   "source": [
    "# random numbers\n",
    "import random\n",
    "\n",
    "# seed generation\n",
    "random.seed(10) # random number with integer seed\n",
    "random.seed()   # random number using system time as seed\n",
    "\n",
    "# returns a random item from a list, tuple, or string\n",
    "a = list( range(1,15) )\n",
    "print (a)\n",
    "print ( random.choice(a) , ': make a random choice from 1 to 14\\n')\n",
    "\n",
    "print ( random.choice('abcdefghijklmnopqrstuvwxyz'), ': make a random choice from a-z\\n' )\n",
    "\n",
    "\n",
    "# returns a randomly selected element from range(start, stop, step)\n",
    "start = 1.0\n",
    "stop  = 100.0\n",
    "step  = 5\n",
    "print ( random.randrange(start, stop, step) ,'\\n')\n",
    "\n",
    "\n",
    "# returns a uniform random floating point in the range [0.0, 1.0]\n",
    "print ( random.random() , 'a uniform random number\\n')\n",
    "\n",
    "# returns a uniform random floating point r such that start < = r < end\n",
    "start = 1.0\n",
    "end = 100.0\n",
    "print ( random.uniform(start, end), 'a uniform random number in between start,end\\n')\n",
    "\n",
    "\n",
    "# shuffle a list\n",
    "x = ['1','2','3','4','5']\n",
    "random.shuffle(x)\n",
    "print ( x, ' shuffling a list' )\n",
    "\n",
    "x = list(range(1,15))\n",
    "random.shuffle(x)\n",
    "print ( x, 'shuffling a list')\n"
   ]
  },
  {
   "cell_type": "markdown",
   "metadata": {},
   "source": [
    "# Trigonometric Functions\n",
    "math.acos(x) : arc cosine x, in radians\n",
    "\n",
    "math.asin(x) : arc sine, in radians\n",
    "\n",
    "math.atan(x) : arc tangent, in radians\n",
    "\n",
    "math.atan2(y,x): return atan(y/x), in radians\n",
    "\n",
    "math.sin(x) : sine of x radians\n",
    "\n",
    "math.cos(x) : cosine of x radians\n",
    "\n",
    "math.tan(x) : tangetn of x radians\n",
    "\n",
    "math.hypot(x,y) : return sqrt(x*x + y*y), the Euclidean norm\n",
    "\n",
    "math.degrees(x) : converts angle x from radians to degrees\n",
    "\n",
    "math.radians(x) : converts angle x from degrees to radians "
   ]
  },
  {
   "cell_type": "code",
   "execution_count": 147,
   "metadata": {},
   "outputs": [
    {
     "name": "stdout",
     "output_type": "stream",
     "text": [
      "0.7853981633974483\n",
      "45.0\n"
     ]
    }
   ],
   "source": [
    "# import math\n",
    "print ( math.atan2(1.0, 1.0) )\n",
    "print ( math.degrees( math.atan2(1.0, 1.0)) )\n",
    "\n",
    "print (math.pi ,'pi')\n",
    "\n",
    "print (math.e , 'mathematical constant e')"
   ]
  },
  {
   "cell_type": "markdown",
   "metadata": {},
   "source": [
    "\n",
    "# Generating Cosin Function and Plot"
   ]
  },
  {
   "cell_type": "code",
   "execution_count": 27,
   "metadata": {},
   "outputs": [
    {
     "name": "stdout",
     "output_type": "stream",
     "text": [
      "[ 0.   0.1  0.2  0.3  0.4  0.5  0.6  0.7  0.8  0.9  1.   1.1  1.2  1.3  1.4\n",
      "  1.5  1.6  1.7  1.8  1.9  2.   2.1  2.2  2.3  2.4  2.5  2.6  2.7  2.8  2.9\n",
      "  3.   3.1  3.2  3.3  3.4  3.5  3.6  3.7  3.8  3.9  4.   4.1  4.2  4.3  4.4\n",
      "  4.5  4.6  4.7  4.8  4.9  5.   5.1  5.2  5.3  5.4  5.5  5.6  5.7  5.8  5.9\n",
      "  6.   6.1  6.2  6.3  6.4  6.5  6.6  6.7  6.8  6.9  7.   7.1  7.2  7.3  7.4\n",
      "  7.5  7.6  7.7  7.8  7.9  8.   8.1  8.2  8.3  8.4  8.5  8.6  8.7  8.8  8.9\n",
      "  9.   9.1  9.2  9.3  9.4]\n"
     ]
    }
   ],
   "source": [
    "# Compute the x and y coordinates for points on sine and cosine curves\n",
    "x = np.arange(0, 3 * np.pi, 0.1)\n",
    "y_sin = np.sin(x)\n",
    "y_cos = np.cos(x)\n",
    "print x"
   ]
  },
  {
   "cell_type": "code",
   "execution_count": 28,
   "metadata": {},
   "outputs": [
    {
     "data": {
      "text/plain": [
       "[<matplotlib.lines.Line2D at 0x7f5c568c6cd0>]"
      ]
     },
     "execution_count": 28,
     "metadata": {},
     "output_type": "execute_result"
    },
    {
     "data": {
      "image/png": "[encoded data removed]",
      "text/plain": [
       "<matplotlib.figure.Figure at 0x7f5c57bfd810>"
      ]
     },
     "metadata": {},
     "output_type": "display_data"
    }
   ],
   "source": [
    "# Set up a subplot grid that has height 2 and width 1,\n",
    "# and set the first such subplot as active.\n",
    "plt.subplot(2, 1, 1)\n",
    "plt.plot(x, y_sin)"
   ]
  },
  {
   "cell_type": "code",
   "execution_count": 29,
   "metadata": {},
   "outputs": [
    {
     "data": {
      "text/plain": [
       "<matplotlib.text.Text at 0x7f5c568a2910>"
      ]
     },
     "execution_count": 29,
     "metadata": {},
     "output_type": "execute_result"
    },
    {
     "data": {
      "image/png": "[encoded data removed]",
      "text/plain": [
       "<matplotlib.figure.Figure at 0x7f5c56b46cd0>"
      ]
     },
     "metadata": {},
     "output_type": "display_data"
    }
   ],
   "source": [
    "# Set the second subplot as active, and make the second plot.\n",
    "plt.subplot(2, 1, 2)\n",
    "plt.plot(x, y_cos)\n",
    "plt.title('Cosine')"
   ]
  },
  {
   "cell_type": "markdown",
   "metadata": {
    "collapsed": true
   },
   "source": [
    "# Try to make some change and commit.\n",
    "\n",
    "git add --all\n",
    "\n",
    "git commit -m \"Baobab: from laptop\"\n",
    "\n",
    "git push "
   ]
  },
  {
   "cell_type": "code",
   "execution_count": 31,
   "metadata": {},
   "outputs": [
    {
     "name": "stderr",
     "output_type": "stream",
     "text": [
      "/scratch/home/hlu/astronomical_softwares/python/anaconda3/envs/learningPython3/lib/python3.6/site-packages/numpy/core/numeric.py:531: ComplexWarning: Casting complex values to real discards the imaginary part\n",
      "  return array(a, dtype, copy=False, order=order)\n"
     ]
    },
    {
     "data": {
      "text/plain": [
       "[<matplotlib.lines.Line2D at 0x7f86c6813828>]"
      ]
     },
     "execution_count": 31,
     "metadata": {},
     "output_type": "execute_result"
    },
    {
     "data": {
      "image/png": "[encoded data removed]",
      "text/plain": [
       "<matplotlib.figure.Figure at 0x7f86c689f2b0>"
      ]
     },
     "metadata": {},
     "output_type": "display_data"
    }
   ],
   "source": [
    "import numpy as np\n",
    "import matplotlib.pyplot as plt\n",
    "%matplotlib inline\n",
    "\n",
    "# generate a numpy array with 512 uniform (in [0,1]) random numbers\n",
    "a = np.random.rand(512)\n",
    "x = np.arange(512)\n",
    "# plt.subplot(1, 1, 1)\n",
    "# plt.plot(x, a)\n",
    "# plt.title('Uniform random number')\n",
    "\n",
    "# generate a numpy array with 512 Gaussian random numbers\n",
    "a = np.random.randn(512)\n",
    "x = np.arange(512)\n",
    "plt.subplot(2,1,2)\n",
    "plt.plot(x, a)\n",
    "plt.title('Gaussian random numbers')\n",
    "\n",
    "# Fourier Transform\n",
    "ffta = np.fft.fft( a )\n",
    "# plt.subplot(2,1,2)\n",
    "# plt.plot(x, ffta)\n",
    "\n",
    "# inverse fourier transform\n",
    "iffta = np.fft.ifft( ffta )\n",
    "plt.subplot(2,1,2)\n",
    "plt.plot(x, iffta - a )"
   ]
  },
  {
   "cell_type": "code",
   "execution_count": null,
   "metadata": {},
   "outputs": [],
   "source": []
  },
  {
   "cell_type": "code",
   "execution_count": null,
   "metadata": {},
   "outputs": [],
   "source": []
  }
 ],
 "metadata": {
  "kernelspec": {
   "display_name": "Python 3",
   "language": "python",
   "name": "python3"
  },
  "language_info": {
   "codemirror_mode": {
    "name": "ipython",
    "version": 3
   },
   "file_extension": ".py",
   "mimetype": "text/x-python",
   "name": "python",
   "nbconvert_exporter": "python",
   "pygments_lexer": "ipython3",
   "version": "3.6.2"
  }
 },
 "nbformat": 4,
 "nbformat_minor": 1
}
