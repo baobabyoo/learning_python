{
 "cells": [
  {
   "cell_type": "markdown",
   "metadata": {},
   "source": [
    "# Exercising the basics of python 3"
   ]
  },
  {
   "cell_type": "markdown",
   "metadata": {},
   "source": [
    "In linux command line, a python 2 code can be translated into a python 3 code by typing\n",
    "\n",
    "\\> 2to3 -w python2code.py"
   ]
  },
  {
   "cell_type": "code",
   "execution_count": 3,
   "metadata": {},
   "outputs": [],
   "source": [
    "# impporting packages\n",
    "import numpy as np\n",
    "import matplotlib.pyplot as plt\n",
    "# allow figures to be presented within jupyter notebook page\n",
    "%matplotlib inline"
   ]
  },
  {
   "cell_type": "markdown",
   "metadata": {},
   "source": [
    "# 1. Standard I/O\n",
    "In Python 3, the print function is somewhat different from the python 2 syntax."
   ]
  },
  {
   "cell_type": "code",
   "execution_count": 6,
   "metadata": {},
   "outputs": [
    {
     "name": "stdout",
     "output_type": "stream",
     "text": [
      "Hello World\n",
      "Hello World again, Goodbye World\n"
     ]
    }
   ],
   "source": [
    "# try standard output\n",
    "print(\"Hello World\")\n",
    "print(\"Hello World again\", end=\", \")\n",
    "print(\"Goodbye World\")"
   ]
  },
  {
   "cell_type": "code",
   "execution_count": 7,
   "metadata": {},
   "outputs": [
    {
     "name": "stdout",
     "output_type": "stream",
     "text": [
      "prompt message: cool!\n"
     ]
    }
   ],
   "source": [
    "# try standard input\n",
    "# In python 3, standard input is always treated as string variables.\n",
    "# Strings are stored as unicode\n",
    "x = input(\"prompt message: \")"
   ]
  },
  {
   "cell_type": "code",
   "execution_count": 8,
   "metadata": {},
   "outputs": [
    {
     "name": "stdout",
     "output_type": "stream",
     "text": [
      "What I got from standard input was: cool!\n"
     ]
    }
   ],
   "source": [
    "print(\"What I got from standard input was\", end=\": \")\n",
    "print(x)"
   ]
  },
  {
   "cell_type": "code",
   "execution_count": null,
   "metadata": {},
   "outputs": [],
   "source": []
  }
 ],
 "metadata": {
  "kernelspec": {
   "display_name": "Python 3",
   "language": "python",
   "name": "python3"
  },
  "language_info": {
   "codemirror_mode": {
    "name": "ipython",
    "version": 3
   },
   "file_extension": ".py",
   "mimetype": "text/x-python",
   "name": "python",
   "nbconvert_exporter": "python",
   "pygments_lexer": "ipython3",
   "version": "3.6.2"
  }
 },
 "nbformat": 4,
 "nbformat_minor": 2
}
